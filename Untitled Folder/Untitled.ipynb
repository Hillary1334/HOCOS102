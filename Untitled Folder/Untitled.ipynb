{
 "cells": [
  {
   "cell_type": "code",
   "execution_count": 5,
   "id": "1f7743bf-dd1f-4713-9396-ebe724695b70",
   "metadata": {},
   "outputs": [],
   "source": [
    "# A Python program to\n",
    "# demonstrate defining\n",
    "# a class\n",
    "\n",
    "class Parrot():\n",
    "    pass"
   ]
  },
  {
   "cell_type": "code",
   "execution_count": 6,
   "id": "6f461809-8100-490e-a816-2419d9408dcf",
   "metadata": {},
   "outputs": [],
   "source": [
    "obj = Parrot()"
   ]
  },
  {
   "cell_type": "code",
   "execution_count": 20,
   "id": "7bc7db3b-e308-462d-9be1-0425f8832b1b",
   "metadata": {},
   "outputs": [
    {
     "name": "stdout",
     "output_type": "stream",
     "text": [
      "mammal\n",
      "I'm a mammal\n",
      "I'm a dog\n"
     ]
    }
   ],
   "source": [
    "# Python program to\n",
    "# demonstrate instantiating\n",
    "# a class\n",
    "\n",
    "\n",
    "class Dog():\n",
    "    \n",
    "    # A simple class\n",
    "    # attribute\n",
    "    attr1 = \"mammal\"\n",
    "    attr2 = \"dog\"\n",
    "\n",
    "    # A class method\n",
    "    def fun(self):\n",
    "        print(\"I'm a\", self.attr1)\n",
    "        print(\"I'm a\", self.attr2)\n",
    "\n",
    "# Object instantiation\n",
    "Rodger = Dog()\n",
    "\n",
    "# Accessing class attributes\n",
    "# and method through objects\n",
    "\n",
    "print(Rodger.attr1)\n",
    "Rodger.fun()\n"
   ]
  },
  {
   "cell_type": "code",
   "execution_count": 32,
   "id": "2b77266d-dda3-4315-81ce-9dde2b240e12",
   "metadata": {},
   "outputs": [
    {
     "name": "stdout",
     "output_type": "stream",
     "text": [
      "Address of self =  1832644476560\n",
      "Address of class object =  1832644476560\n"
     ]
    }
   ],
   "source": [
    "# It is seen that self and obj is referring to the same object\n",
    "\n",
    "class check_():\n",
    "    def __init__(self):\n",
    "        print(\"Address of self = \", id(self))\n",
    "\n",
    "obj = check_()\n",
    "print(\"Address of class object = \", id(obj))\n"
   ]
  },
  {
   "cell_type": "code",
   "execution_count": 35,
   "id": "2b1f6e0d-4676-4eb9-bc88-eb03ab4ec95a",
   "metadata": {},
   "outputs": [
    {
     "ename": "TypeError",
     "evalue": "car.__init__() takes 3 positional arguments but 4 were given",
     "output_type": "error",
     "traceback": [
      "\u001b[1;31m---------------------------------------------------------------------------\u001b[0m",
      "\u001b[1;31mTypeError\u001b[0m                                 Traceback (most recent call last)",
      "Cell \u001b[1;32mIn[35], line 15\u001b[0m\n\u001b[0;32m     11\u001b[0m         \u001b[38;5;28mprint\u001b[39m(\u001b[38;5;124m\"\u001b[39m\u001b[38;5;124mModel is\u001b[39m\u001b[38;5;124m\"\u001b[39m, \u001b[38;5;28mself\u001b[39m\u001b[38;5;241m.\u001b[39mmodel )\n\u001b[0;32m     12\u001b[0m         \u001b[38;5;28mprint\u001b[39m(\u001b[38;5;124m\"\u001b[39m\u001b[38;5;124mcolor is\u001b[39m\u001b[38;5;124m\"\u001b[39m, \u001b[38;5;28mself\u001b[39m\u001b[38;5;241m.\u001b[39mcolor )\n\u001b[1;32m---> 15\u001b[0m toyota \u001b[38;5;241m=\u001b[39m car(\u001b[38;5;124m\"\u001b[39m\u001b[38;5;124mToyota Corolla\u001b[39m\u001b[38;5;124m\"\u001b[39m, \u001b[38;5;124m\"\u001b[39m\u001b[38;5;124mblue\u001b[39m\u001b[38;5;124m\"\u001b[39m, \u001b[38;5;241m2009\u001b[39m)\n\u001b[0;32m     16\u001b[0m kia \u001b[38;5;241m=\u001b[39m car(\u001b[38;5;124m\"\u001b[39m\u001b[38;5;124mKia Cerato\u001b[39m\u001b[38;5;124m\"\u001b[39m, \u001b[38;5;124m\"\u001b[39m\u001b[38;5;124mgreen\u001b[39m\u001b[38;5;124m\"\u001b[39m, \u001b[38;5;241m2020\u001b[39m,)\n\u001b[0;32m     18\u001b[0m toyota\u001b[38;5;241m.\u001b[39mshow() \u001b[38;5;66;03m# same output as car.show(toyota)\u001b[39;00m\n",
      "\u001b[1;31mTypeError\u001b[0m: car.__init__() takes 3 positional arguments but 4 were given"
     ]
    }
   ],
   "source": [
    "# Another example using SELF\n",
    "\n",
    "class car():\n",
    "\n",
    "    # init method or constructor\n",
    "    def __init__(self, model, color):\n",
    "        self.model = model\n",
    "        self.color = color\n",
    "\n",
    "    def show(self):\n",
    "        print(\"Model is\", self.model )\n",
    "        print(\"color is\", self.color )\n",
    "\n",
    "\n",
    "toyota = car(\"Toyota Corolla\", \"blue\", 2009)\n",
    "kia = car(\"Kia Cerato\", \"green\", 2020, \"Automatic\")\n",
    "\n",
    "toyota.show() # same output as car.show(toyota)\n",
    "kia.show() # same output as car.show(kia)\n",
    "\n"
   ]
  },
  {
   "cell_type": "code",
   "execution_count": null,
   "id": "57ae885e-ce57-491f-acae-3b52184fa45d",
   "metadata": {},
   "outputs": [],
   "source": []
  },
  {
   "cell_type": "code",
   "execution_count": null,
   "id": "7db6e879-4d87-41e4-a93b-5b7881d6138f",
   "metadata": {},
   "outputs": [],
   "source": []
  }
 ],
 "metadata": {
  "kernelspec": {
   "display_name": "Python 3 (ipykernel)",
   "language": "python",
   "name": "python3"
  },
  "language_info": {
   "codemirror_mode": {
    "name": "ipython",
    "version": 3
   },
   "file_extension": ".py",
   "mimetype": "text/x-python",
   "name": "python",
   "nbconvert_exporter": "python",
   "pygments_lexer": "ipython3",
   "version": "3.11.7"
  }
 },
 "nbformat": 4,
 "nbformat_minor": 5
}
