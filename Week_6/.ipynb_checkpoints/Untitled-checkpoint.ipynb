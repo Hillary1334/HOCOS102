{
 "cells": [
  {
   "cell_type": "code",
   "execution_count": 6,
   "id": "71cd13d8-62d0-48cf-8016-bcbad1fb02db",
   "metadata": {},
   "outputs": [
    {
     "name": "stdin",
     "output_type": "stream",
     "text": [
      "Please enter your score in JAMB:  350\n"
     ]
    },
    {
     "name": "stdout",
     "output_type": "stream",
     "text": [
      "Congrats! Your JAMB score meets the requirements\n"
     ]
    },
    {
     "name": "stdin",
     "output_type": "stream",
     "text": [
      "Enter grade for Mathematics:  A\n",
      "Enter grade for English:  A\n",
      "Enter grade for Physics:  A\n",
      "Enter grade for Chemistry:  A\n",
      "Enter grade for Biology:  A\n"
     ]
    },
    {
     "name": "stdout",
     "output_type": "stream",
     "text": [
      "Congratulations! Your WAEC result met the minimum requirements\n",
      "Congratulations! You meet the requirements to be admitted into the Computer Science department.\n"
     ]
    }
   ],
   "source": [
    "import sys\n",
    "\n",
    "def jamb_checker(jamb_score):\n",
    "    if float(jamb_score) < 280:\n",
    "        print(\"Sorry, your JAMB score does not meet the minimum requirements\")\n",
    "        sys.exit()\n",
    "    else:\n",
    "        print(\"Congrats! Your JAMB score meets the requirements\")  \n",
    "\n",
    "def is_passing_grade(grade):\n",
    "    return grade.upper() in ['A', 'B', 'C'] \n",
    "     \n",
    "def main():        \n",
    "    jamb_score = input(\"Please enter your score in JAMB: \")\n",
    "    jamb_checker(jamb_score)\n",
    "\n",
    "    grades = []\n",
    "    subjects = [\"Mathematics\", \"English\", \"Physics\", \"Chemistry\", \"Biology\"]\n",
    "\n",
    "    for subject in subjects:\n",
    "        grade = input(\"Enter grade for {}: \".format(subject))\n",
    "        grades.append(grade)\n",
    "\n",
    "    if all(is_passing_grade(grade) for grade in grades):\n",
    "        print(\"Congratulations! Your WAEC result met the minimum requirements\") \n",
    "    else:\n",
    "        print(\"Sorry, your WAEC result did not meet the required minimum.\")\n",
    "        sys.exit()\n",
    "\n",
    "    if float(jamb_score) >= 280 and all(is_passing_grade(grade) for grade in grades):\n",
    "        print(\"Congratulations! You meet the requirements to be admitted into the Computer Science department.\")\n",
    "        admitted.append({\"JAMB Score\": jamb_score, \"Grades\": grades})\n",
    "    else:\n",
    "        print(\"Sorry, you do not meet the requirements for admission into the Computer Science department.\")\n",
    "        not_admitted.append({\"JAMB Score\": jamb_score, \"Grades\": grades})\n",
    "\n",
    "if __name__ == \"__main__\":\n",
    "    admitted = []  # Initialize the admitted list\n",
    "    not_admitted = []  # Initialize the not_admitted list\n",
    "    main()  \n"
   ]
  },
  {
   "cell_type": "code",
   "execution_count": null,
   "id": "b739ac61-4cd8-482d-93a6-917536e48630",
   "metadata": {},
   "outputs": [],
   "source": []
  }
 ],
 "metadata": {
  "kernelspec": {
   "display_name": "Python 3 (ipykernel)",
   "language": "python",
   "name": "python3"
  },
  "language_info": {
   "codemirror_mode": {
    "name": "ipython",
    "version": 3
   },
   "file_extension": ".py",
   "mimetype": "text/x-python",
   "name": "python",
   "nbconvert_exporter": "python",
   "pygments_lexer": "ipython3",
   "version": "3.11.7"
  }
 },
 "nbformat": 4,
 "nbformat_minor": 5
}
