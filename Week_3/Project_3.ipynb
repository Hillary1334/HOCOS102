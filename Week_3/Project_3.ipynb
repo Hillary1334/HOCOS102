{
 "cells": [
  {
   "cell_type": "code",
   "execution_count": 1,
   "id": "27ea314d-d724-437f-af20-dd7789017263",
   "metadata": {},
   "outputs": [
    {
     "name": "stdin",
     "output_type": "stream",
     "text": [
      "Enter coefficient A:  2\n",
      "Enter coefficient B:  3\n",
      "Enter coefficient C:  5\n"
     ]
    },
    {
     "name": "stdout",
     "output_type": "stream",
     "text": [
      "Roots of the quadratic equation:\n",
      "Root 1: (-0.75+1.3919410907075054j)\n",
      "Root 2: (-0.75-1.3919410907075054j)\n"
     ]
    }
   ],
   "source": [
    "import math\n",
    "\n",
    "def quadratic_roots(A, B, C):\n",
    "    # Calculate the discriminant\n",
    "    discriminant = B**2 - 4 * A * C\n",
    "    \n",
    "    # Check if the discriminant is positive, zero, or negative\n",
    "    if discriminant > 0:\n",
    "        # Two real roots\n",
    "        root1 = (-B + math.sqrt(discriminant)) / (2 * A)\n",
    "        root2 = (-B - math.sqrt(discriminant)) / (2 * A)\n",
    "        return root1, root2\n",
    "    elif discriminant == 0:\n",
    "        # One real root\n",
    "        root = -B / (2 * A)\n",
    "        return root,\n",
    "    else:\n",
    "        # Complex roots\n",
    "        real_part = -B / (2 * A)\n",
    "        imaginary_part = math.sqrt(abs(discriminant)) / (2 * A)\n",
    "        root1 = complex(real_part, imaginary_part)\n",
    "        root2 = complex(real_part, -imaginary_part)\n",
    "        return root1, root2\n",
    "\n",
    "# Get user input for coefficients A, B, and C\n",
    "A = float(input(\"Enter coefficient A: \"))\n",
    "B = float(input(\"Enter coefficient B: \"))\n",
    "C = float(input(\"Enter coefficient C: \"))\n",
    "\n",
    "# Calculate the roots of the quadratic equation\n",
    "roots = quadratic_roots(A, B, C)\n",
    "\n",
    "# Print the roots\n",
    "print(\"Roots of the quadratic equation:\")\n",
    "for i, root in enumerate(roots):\n",
    "    print(f\"Root {i+1}: {root}\")\n"
   ]
  },
  {
   "cell_type": "code",
   "execution_count": null,
   "id": "df51160a-8c6d-4e52-b083-85ec18070c5c",
   "metadata": {},
   "outputs": [],
   "source": []
  }
 ],
 "metadata": {
  "kernelspec": {
   "display_name": "Python 3 (ipykernel)",
   "language": "python",
   "name": "python3"
  },
  "language_info": {
   "codemirror_mode": {
    "name": "ipython",
    "version": 3
   },
   "file_extension": ".py",
   "mimetype": "text/x-python",
   "name": "python",
   "nbconvert_exporter": "python",
   "pygments_lexer": "ipython3",
   "version": "3.11.7"
  }
 },
 "nbformat": 4,
 "nbformat_minor": 5
}
