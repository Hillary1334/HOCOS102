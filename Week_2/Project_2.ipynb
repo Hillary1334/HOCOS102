{
 "cells": [
  {
   "cell_type": "code",
   "execution_count": 1,
   "id": "34ae7049-156b-4a81-ae93-612147e85671",
   "metadata": {},
   "outputs": [
    {
     "name": "stdin",
     "output_type": "stream",
     "text": [
      "Enter coefficient A:  1\n",
      "Enter coefficient B:  3\n",
      "Enter coefficient C:  2\n",
      "Enter coefficient D:  5\n"
     ]
    },
    {
     "name": "stdout",
     "output_type": "stream",
     "text": [
      "Roots of the cubic equation:\n",
      "Root 1: (-2.904160859134925+0j)\n",
      "Root 2: (-0.04791957043253992+1.3112480440771224j)\n",
      "Root 3: (-0.04791957043253992-1.3112480440771224j)\n"
     ]
    }
   ],
   "source": [
    "import numpy as np\n",
    "\n",
    "def find_cubic_roots(A, B, C, D):\n",
    "    # Coefficients of the cubic equation\n",
    "    coefficients = [A, B, C, D]\n",
    "    \n",
    "    # Compute roots of the cubic equation\n",
    "    roots = np.roots(coefficients)\n",
    "    \n",
    "    return roots\n",
    "\n",
    "# Get user input for coefficients A, B, and C\n",
    "A = float(input(\"Enter coefficient A: \"))\n",
    "B = float(input(\"Enter coefficient B: \"))\n",
    "C = float(input(\"Enter coefficient C: \"))\n",
    "D = float(input(\"Enter coefficient D: \"))\n",
    "\n",
    "# Calculate the roots of the cubic equation\n",
    "roots = find_cubic_roots(A, B, C, D)\n",
    "\n",
    "# Print the roots\n",
    "print(\"Roots of the cubic equation:\")\n",
    "for i, root in enumerate(roots):\n",
    "    print(f\"Root {i+1}: {root}\")\n"
   ]
  },
  {
   "cell_type": "code",
   "execution_count": null,
   "id": "957580ae-9fb9-47fe-ba43-c24ec6a61ee1",
   "metadata": {},
   "outputs": [],
   "source": []
  },
  {
   "cell_type": "code",
   "execution_count": null,
   "id": "cdef779c-166c-4168-8893-16085bda68a3",
   "metadata": {},
   "outputs": [],
   "source": []
  }
 ],
 "metadata": {
  "kernelspec": {
   "display_name": "Python 3 (ipykernel)",
   "language": "python",
   "name": "python3"
  },
  "language_info": {
   "codemirror_mode": {
    "name": "ipython",
    "version": 3
   },
   "file_extension": ".py",
   "mimetype": "text/x-python",
   "name": "python",
   "nbconvert_exporter": "python",
   "pygments_lexer": "ipython3",
   "version": "3.11.7"
  }
 },
 "nbformat": 4,
 "nbformat_minor": 5
}
