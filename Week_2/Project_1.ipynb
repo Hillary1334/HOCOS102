{
 "cells": [
  {
   "cell_type": "code",
   "execution_count": null,
   "id": "f385fcc4-bb5a-45f3-88cb-fd176c781928",
   "metadata": {},
   "outputs": [],
   "source": []
  },
  {
   "cell_type": "code",
   "execution_count": 2,
   "id": "604452c0-9e8d-446c-a4a6-579d6e11e19e",
   "metadata": {},
   "outputs": [
    {
     "name": "stdin",
     "output_type": "stream",
     "text": [
      "Kindly Input the amount due: N 1000\n",
      "Kindly Select method of payment; cash or card:  1000\n",
      "You have opted for the card payment method. Kindly enter the Amount due to be paid in card: N 1000\n"
     ]
    },
    {
     "name": "stdout",
     "output_type": "stream",
     "text": [
      "Kindly proceed with card payment at the counter\n",
      "Thank you for Shopping with us\n",
      "Have a great day.\n"
     ]
    }
   ],
   "source": [
    "# The user inputs the due amount\n",
    "A = float(input(\"Kindly Input the amount due: N\"))\n",
    "\n",
    "# The user selects the method of payment\n",
    "payment_method = input(\"Kindly Select method of payment; cash or card: \")\n",
    "\n",
    "# Check if the payment method is equal to \"cash\"\n",
    "if payment_method == \"cash\":\n",
    "    print(\"You have opted for the cash payment method\")\n",
    "    print(\"Kindly pay the amount due at the counter in cash\") \n",
    "    print(\"Thank you for Shopping with us\")\n",
    "    print(\"Have a great day.\")\n",
    "else:\n",
    "    # The user inputs the amount due to be paid by card\n",
    "    amount_on_card = float(input(\"You have opted for the card payment method. Kindly enter the Amount due to be paid in card: N\"))\n",
    "    \n",
    "    # Check if the entered amount matches the amount due\n",
    "    if amount_on_card == A:\n",
    "        print(\"Kindly proceed with card payment at the counter\")\n",
    "        print(\"Thank you for Shopping with us\")\n",
    "        print(\"Have a great day.\")\n",
    "    else: \n",
    "        print(\"You have inputted an invalid amount. Kindly Restart the checkout process.\")\n"
   ]
  },
  {
   "cell_type": "code",
   "execution_count": null,
   "id": "fbb0f486-e613-40d9-8367-d9747a05da8f",
   "metadata": {},
   "outputs": [],
   "source": []
  },
  {
   "cell_type": "code",
   "execution_count": null,
   "id": "8a739cc4-dd34-46ff-b582-858b2a3b4839",
   "metadata": {},
   "outputs": [],
   "source": []
  },
  {
   "cell_type": "code",
   "execution_count": null,
   "id": "94ce3c56-bd19-4f2c-a2f8-f1d83bbd596b",
   "metadata": {},
   "outputs": [],
   "source": []
  }
 ],
 "metadata": {
  "kernelspec": {
   "display_name": "Python 3 (ipykernel)",
   "language": "python",
   "name": "python3"
  },
  "language_info": {
   "codemirror_mode": {
    "name": "ipython",
    "version": 3
   },
   "file_extension": ".py",
   "mimetype": "text/x-python",
   "name": "python",
   "nbconvert_exporter": "python",
   "pygments_lexer": "ipython3",
   "version": "3.11.7"
  }
 },
 "nbformat": 4,
 "nbformat_minor": 5
}
