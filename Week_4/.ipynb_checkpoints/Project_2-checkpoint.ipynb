{
 "cells": [
  {
   "cell_type": "code",
   "execution_count": 38,
   "id": "0ab99bb5-527b-432c-8ad6-ed0080d7d042",
   "metadata": {},
   "outputs": [
    {
     "name": "stdout",
     "output_type": "stream",
     "text": [
      "Welcome to Izifin Technology Ltd. Nigeria.\n",
      "\n"
     ]
    },
    {
     "name": "stdin",
     "output_type": "stream",
     "text": [
      "Kindly Enter Your Name: Hillary\n",
      "Kindly Enter Your Employee number: 001334\n",
      "Kindly Enter Your Years Of Experience: 9\n",
      "Kindly Enter Your Age: 22\n"
     ]
    },
    {
     "name": "stdout",
     "output_type": "stream",
     "text": [
      "Employee's Annual Tax Revenue (ATR) is N550,000.\n"
     ]
    }
   ],
   "source": [
    "print (\"Welcome to Izifin Technology Ltd. Nigeria.\\n\")\n",
    "\"\\n\"\n",
    "# Create a code to permit the user to input his/her name\n",
    "Name = input(\"Kindly Enter Your Name:\")\n",
    "ID = input(\"Kindly Enter Your Employee number:\")\n",
    "Years_of_Experience = float(input(\"Kindly Enter Your Years Of Experience:\"))\n",
    "Age = float(input(\"Kindly Enter Your Age:\"))\n",
    "\n",
    "if Years_of_Experience > 25 and Age >= 55:\n",
    "    print (\"Employee's Annual Tax Revenue (ATR) is N5,600,000.\")\n",
    "elif Years_of_Experience > 20 and Age >= 45:\n",
    "    print (\"Employee's Annual Tax Revenue (ATR) is N4,480,000.\")\n",
    "elif Years_of_Experience > 10 and Age >= 35:\n",
    "    print (\"Employee's Annual Tax Revenue (ATR) is N1,500,000.\")\n",
    "else: \n",
    "    Years_of_Experience < 10 and Age < 35\n",
    "    print (\"Employee's Annual Tax Revenue (ATR) is N550,000.\")"
   ]
  },
  {
   "cell_type": "code",
   "execution_count": null,
   "id": "61ce9bd8-854e-4268-b20d-0fb04a64b30a",
   "metadata": {},
   "outputs": [],
   "source": []
  }
 ],
 "metadata": {
  "kernelspec": {
   "display_name": "Python 3 (ipykernel)",
   "language": "python",
   "name": "python3"
  },
  "language_info": {
   "codemirror_mode": {
    "name": "ipython",
    "version": 3
   },
   "file_extension": ".py",
   "mimetype": "text/x-python",
   "name": "python",
   "nbconvert_exporter": "python",
   "pygments_lexer": "ipython3",
   "version": "3.11.7"
  }
 },
 "nbformat": 4,
 "nbformat_minor": 5
}
