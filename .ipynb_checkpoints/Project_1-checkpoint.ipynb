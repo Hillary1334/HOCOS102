{
 "cells": [
  {
   "cell_type": "code",
   "execution_count": 13,
   "id": "be566d30-72d5-41df-8dbe-f7b5a669dc07",
   "metadata": {},
   "outputs": [
    {
     "name": "stdout",
     "output_type": "stream",
     "text": [
      "The formula for Simple Interest, A is P*(1 + (R/100) * T)\n",
      "The formula for Compound Interest, A is P*(1 + R/n)^nt\n",
      "The formula for Annuity Plan, A is PMT*((1 + (R/n)^nt - 1) / (R/n)\n"
     ]
    }
   ],
   "source": [
    "# Python project to print out the formula for simple interest\n",
    "A = \"P*(1 + (R/100) * T)\"\n",
    "print(\"The formula for Simple Interest, A is\", A)\n",
    "\n",
    "# Python project to print out the formula for Compound interest\n",
    "A = \"P*(1 + R/n)^nt\"\n",
    "print(\"The formula for Compound Interest, A is\", A)\n",
    "\n",
    "# Python project to print out the formula for simple interest\n",
    "A = \"PMT*((1 + (R/n)^nt - 1) / (R/n)\"\n",
    "print(\"The formula for Annuity Plan, A is\", A)"
   ]
  },
  {
   "cell_type": "code",
   "execution_count": null,
   "id": "0b346d50-85ff-449e-944f-b22889bd3595",
   "metadata": {},
   "outputs": [],
   "source": []
  }
 ],
 "metadata": {
  "kernelspec": {
   "display_name": "Python 3 (ipykernel)",
   "language": "python",
   "name": "python3"
  },
  "language_info": {
   "codemirror_mode": {
    "name": "ipython",
    "version": 3
   },
   "file_extension": ".py",
   "mimetype": "text/x-python",
   "name": "python",
   "nbconvert_exporter": "python",
   "pygments_lexer": "ipython3",
   "version": "3.11.7"
  }
 },
 "nbformat": 4,
 "nbformat_minor": 5
}
