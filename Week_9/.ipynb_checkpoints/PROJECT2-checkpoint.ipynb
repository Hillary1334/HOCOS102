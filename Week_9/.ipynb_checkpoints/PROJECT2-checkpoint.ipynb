{
 "cells": [
  {
   "cell_type": "code",
   "execution_count": 20,
   "id": "94d6148c-ae5f-4903-82e4-1d4c624cab18",
   "metadata": {},
   "outputs": [],
   "source": [
    "import tkinter as tk\n",
    "from tkinter import messagebox\n",
    "from tkinter import ttk\n",
    "\n",
    "\n",
    "class varchecke():\n",
    "    \n",
    "     def __init__(self, weight):\n",
    "         self.weight = weight\n",
    "\n",
    "     def checker(self):\n",
    "         weight = int(weight_entry.get())\n",
    "         \n",
    "         if n.get() == \"EPE\" and weight > 9:\n",
    "             messagebox.showinfo(\"COST TOTAL\",\"SUM TO PAY IS N10,000\\n\")\n",
    "         elif n.get() == \"EPE\" and weight < 10:\n",
    "             messagebox.showinfo(\"COST TOTAL\",\"SUM TO PAY IS N5000\\n\")\n",
    "         elif n.get() == \"IBEJU-LEKKI\" and weight > 9:\n",
    "             messagebox.showinfo(\"COST TOTAL\",\"SUM TO PAY IS N5000\\n\")     \n",
    "         elif n.get() == \"IBEJU-LEKKI\" and weight < 10:\n",
    "             messagebox.showinfo(\"COST TOTAL\",\"SUM TO PAY IS N3500\\n\")\n",
    "         else:\n",
    "             messagebox.showerror(\"ERROR\",\"INVALID INFO ENTERED\\n\")\n",
    "\n",
    "\n",
    "\n",
    "\n",
    "root = tk.Tk()\n",
    "root.title(\"DELIVERY FORM\")\n",
    "root.geometry(\"500x220\")\n",
    "\n",
    "ttk.Label(root,text = \"SELECT THE DELIVERY LOCATION\").grid(row = 5, column =0, padx =10, pady = 25)\n",
    "n = tk.StringVar()\n",
    "location = ttk.Combobox(root,width = 30, textvariable = n)\n",
    "location[\"values\"] = (\"EPE\",\n",
    "                      \"IBEJU-LEKKI\")\n",
    "location.grid(column = 1, row = 5)\n",
    "location.current()\n",
    "\n",
    "weight_label = tk.Label(root, text = \"ENTER THE WEIGHT OF YOUR PACKAGE(kg): \").grid(row = 10, column =0, padx =10, pady = 25)\n",
    "weight_entry = tk.Entry(root,width = 33)\n",
    "weight_entry.grid(row = 10, column =1)\n",
    "\n",
    "weight = (weight_entry.get())\n",
    "obj = varchecke(weight)\n",
    "\n",
    "submit_button = tk.Button(root, text=\"submit\", command = obj.checker)\n",
    "submit_button.grid(row = 15, column =1, padx =10, pady = 25)\n",
    "\n",
    "\n",
    "root.mainloop()                      \n",
    "\n"
   ]
  },
  {
   "cell_type": "code",
   "execution_count": null,
   "id": "ba471e56-b101-4960-b80e-805bb986f047",
   "metadata": {},
   "outputs": [],
   "source": []
  }
 ],
 "metadata": {
  "kernelspec": {
   "display_name": "Python 3 (ipykernel)",
   "language": "python",
   "name": "python3"
  },
  "language_info": {
   "codemirror_mode": {
    "name": "ipython",
    "version": 3
   },
   "file_extension": ".py",
   "mimetype": "text/x-python",
   "name": "python",
   "nbconvert_exporter": "python",
   "pygments_lexer": "ipython3",
   "version": "3.11.7"
  }
 },
 "nbformat": 4,
 "nbformat_minor": 5
}
