{
 "cells": [
  {
   "cell_type": "code",
   "execution_count": 1,
   "id": "982bd8d4-b2cf-4aa9-85d8-28326a712566",
   "metadata": {},
   "outputs": [],
   "source": [
    "import pandas as pd\n",
    "from tkinter import *\n",
    "\n",
    "# Load the dataset\n",
    "employees = pd.read_csv('GIG-logistics.csv')\n",
    "\n",
    "# Function to check employee and display details\n",
    "def check_employee():\n",
    "    name = name_entry.get().strip()\n",
    "    department = department_entry.get().strip()\n",
    "    \n",
    "    employee_data = employees[(employees['SURNAME'] == name) & (employees['DEPARTMENT'] == department)]\n",
    "\n",
    "    if not employee_data.empty:\n",
    "        welcome_label.config(text=f\"Welcome {name} from {department} department!\")\n",
    "        members = employees.loc[employees['DEPARTMENT'] == department, 'SURNAME'].tolist()\n",
    "        members.remove(name)\n",
    "        members_label.config(text=f\"Other members in {department} department:\\n\" + \"\\n\".join(members))\n",
    "    else:\n",
    "        welcome_label.config(text=\"Employee does not exist.\")\n",
    "\n",
    "# GUI setup\n",
    "root = Tk()\n",
    "root.title(\"GIG Logistics Employee Checker\")\n",
    "root.geometry(\"500x300\")\n",
    "\n",
    "Label(root, text=\"Name:\").grid(row=0, column=0)\n",
    "name_entry = Entry(root)\n",
    "name_entry.grid(row=0, column=1)\n",
    "\n",
    "Label(root, text=\"Department:\").grid(row=1, column=0)\n",
    "department_entry = Entry(root)\n",
    "department_entry.grid(row=1, column=1)\n",
    "\n",
    "Button(root, text=\"Check Employee\", command=check_employee).grid(row=2, column=0, columnspan=2)\n",
    "\n",
    "welcome_label = Label(root, text=\"\")\n",
    "welcome_label.grid(row=3, column=0, columnspan=2)\n",
    "\n",
    "members_label = Label(root, text=\"\")\n",
    "members_label.grid(row=4, column=0, columnspan=2)\n",
    "\n",
    "root.mainloop()\n"
   ]
  },
  {
   "cell_type": "code",
   "execution_count": null,
   "id": "5bcacbfc-72fd-46be-bc3c-1e3a9d5b216e",
   "metadata": {},
   "outputs": [],
   "source": []
  }
 ],
 "metadata": {
  "kernelspec": {
   "display_name": "Python 3 (ipykernel)",
   "language": "python",
   "name": "python3"
  },
  "language_info": {
   "codemirror_mode": {
    "name": "ipython",
    "version": 3
   },
   "file_extension": ".py",
   "mimetype": "text/x-python",
   "name": "python",
   "nbconvert_exporter": "python",
   "pygments_lexer": "ipython3",
   "version": "3.11.7"
  }
 },
 "nbformat": 4,
 "nbformat_minor": 5
}
