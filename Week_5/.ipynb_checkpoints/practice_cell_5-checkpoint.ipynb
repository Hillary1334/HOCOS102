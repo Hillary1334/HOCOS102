{
 "cells": [
  {
   "cell_type": "code",
   "execution_count": 1,
   "id": "7877764d-c980-47de-9951-4bf8cfd83a26",
   "metadata": {},
   "outputs": [
    {
     "name": "stdout",
     "output_type": "stream",
     "text": [
      "NAME: mkiti\n",
      "Age: 50\n"
     ]
    }
   ],
   "source": [
    "def printinfo(name,age):\n",
    "    #test function\n",
    "    print(\"NAME:\",name);\n",
    "    print(\"Age:\",age);\n",
    "    return\n",
    "printinfo( age=50,name =\"mkiti\");\n"
   ]
  },
  {
   "cell_type": "code",
   "execution_count": null,
   "id": "37066f5a-c13c-4e6c-b4ac-f4f4d61a1322",
   "metadata": {},
   "outputs": [],
   "source": []
  }
 ],
 "metadata": {
  "kernelspec": {
   "display_name": "Python 3 (ipykernel)",
   "language": "python",
   "name": "python3"
  },
  "language_info": {
   "codemirror_mode": {
    "name": "ipython",
    "version": 3
   },
   "file_extension": ".py",
   "mimetype": "text/x-python",
   "name": "python",
   "nbconvert_exporter": "python",
   "pygments_lexer": "ipython3",
   "version": "3.11.7"
  }
 },
 "nbformat": 4,
 "nbformat_minor": 5
}
