{
 "cells": [
  {
   "cell_type": "code",
   "execution_count": 1,
   "id": "d4f2869b-94bb-4892-957b-051cbad634d2",
   "metadata": {},
   "outputs": [
    {
     "name": "stdout",
     "output_type": "stream",
     "text": [
      "Mystring\n"
     ]
    }
   ],
   "source": [
    "def printme(str):\n",
    "    #this prints a passed string\n",
    "    print(str);\n",
    "    return;\n",
    "printme(str=\"Mystring\");\n"
   ]
  },
  {
   "cell_type": "code",
   "execution_count": null,
   "id": "646f71ff-59ce-40df-8090-e4f31f359b42",
   "metadata": {},
   "outputs": [],
   "source": []
  }
 ],
 "metadata": {
  "kernelspec": {
   "display_name": "Python 3 (ipykernel)",
   "language": "python",
   "name": "python3"
  },
  "language_info": {
   "codemirror_mode": {
    "name": "ipython",
    "version": 3
   },
   "file_extension": ".py",
   "mimetype": "text/x-python",
   "name": "python",
   "nbconvert_exporter": "python",
   "pygments_lexer": "ipython3",
   "version": "3.11.7"
  }
 },
 "nbformat": 4,
 "nbformat_minor": 5
}
