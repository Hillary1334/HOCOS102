{
 "cells": [
  {
   "cell_type": "code",
   "execution_count": 5,
   "id": "c15c9cda-2df3-430e-85c3-0f93e391c151",
   "metadata": {},
   "outputs": [
    {
     "name": "stdout",
     "output_type": "stream",
     "text": [
      "Output is \n",
      "10\n",
      "Output is \n",
      "70\n",
      "60\n"
     ]
    }
   ],
   "source": [
    "def printinfo(arg1, *vartuple):\n",
    "    #This is tesst\n",
    "    print(\"Output is \")\n",
    "    print(arg1)\n",
    "    for var in vartuple:\n",
    "        print (var)\n",
    "        return;\n",
    "printinfo(10);\n",
    "printinfo(70,60,50,);"
   ]
  },
  {
   "cell_type": "code",
   "execution_count": null,
   "id": "5fe6fe94-ec77-4763-a8fc-02aae10ac9fb",
   "metadata": {},
   "outputs": [],
   "source": []
  }
 ],
 "metadata": {
  "kernelspec": {
   "display_name": "Python 3 (ipykernel)",
   "language": "python",
   "name": "python3"
  },
  "language_info": {
   "codemirror_mode": {
    "name": "ipython",
    "version": 3
   },
   "file_extension": ".py",
   "mimetype": "text/x-python",
   "name": "python",
   "nbconvert_exporter": "python",
   "pygments_lexer": "ipython3",
   "version": "3.11.7"
  }
 },
 "nbformat": 4,
 "nbformat_minor": 5
}
