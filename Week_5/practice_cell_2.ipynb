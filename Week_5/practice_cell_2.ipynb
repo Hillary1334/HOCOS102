{
 "cells": [
  {
   "cell_type": "code",
   "execution_count": 1,
   "id": "1b6389be-fe84-4c72-9f3a-fc231415c792",
   "metadata": {},
   "outputs": [
    {
     "name": "stdout",
     "output_type": "stream",
     "text": [
      "Values inside the function: [10, 20, 30, [1, 2, 3, 4]]\n",
      "Values outside the function: [10, 20, 30, [1, 2, 3, 4]]\n"
     ]
    }
   ],
   "source": [
    "def changeme(mylist):\n",
    "    #this changes a passed list\n",
    "    mylist.append([1,2,3,4])\n",
    "    print(\"Values inside the function:\", mylist)\n",
    "    return\n",
    "mylist=[10,20,30]\n",
    "changeme(mylist)\n",
    "print(\"Values outside the function:\", mylist)\n"
   ]
  },
  {
   "cell_type": "code",
   "execution_count": null,
   "id": "0eeeb69a-bc5e-4c9e-83b2-679e061d1657",
   "metadata": {},
   "outputs": [],
   "source": []
  }
 ],
 "metadata": {
  "kernelspec": {
   "display_name": "Python 3 (ipykernel)",
   "language": "python",
   "name": "python3"
  },
  "language_info": {
   "codemirror_mode": {
    "name": "ipython",
    "version": 3
   },
   "file_extension": ".py",
   "mimetype": "text/x-python",
   "name": "python",
   "nbconvert_exporter": "python",
   "pygments_lexer": "ipython3",
   "version": "3.11.7"
  }
 },
 "nbformat": 4,
 "nbformat_minor": 5
}
