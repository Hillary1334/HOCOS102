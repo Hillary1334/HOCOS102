{
 "cells": [
  {
   "cell_type": "code",
   "execution_count": 3,
   "id": "869bf077-7922-4369-8510-d22a79d0aea1",
   "metadata": {},
   "outputs": [],
   "source": [
    "import pandas as pd\n",
    "   \n",
    "record = {'BRANDS':[\"REFRESHMENT BEVERAGES\",\"CONFECTIONARIES\",\"INTERMEDIATE COCOA PRODUCTS\",\" \"],\n",
    "        ' ':[\" \",\" \",\" \",\" \"],\n",
    "        'REFRESHMENT BEVERAGES':[\"CADBURY BOURNVITA\",\"CADBURY 3-in-1 HOT CHOCOLATE\",\"  \",\"  \"],\n",
    "        'CONFECTIONARIES': [\"TOMTOM CLASSIC\",\"TOMTOM STRAWBERRY\",\"BUTTERMINT\",\"  \"],\n",
    "        'INTERMEDIATE COCOA PRODUCTS':[\"COCOA BUTTER\",\"LIQUOR\",\"CAKE\",\"COCOA POWDER\"],\n",
    "        'EXPORTS':[\"COCOA BUTTER\",\"CAKE\",\"LIQUOR\",\"  \"]}\n",
    "        \n",
    "  \n",
    "df = pd.DataFrame(record)\n",
    "\n",
    "df.to_csv(' cadbury_market.csv')\n"
   ]
  },
  {
   "cell_type": "code",
   "execution_count": null,
   "id": "39a766aa-2b9f-40b7-8aa3-9404d3ab9901",
   "metadata": {},
   "outputs": [],
   "source": []
  }
 ],
 "metadata": {
  "kernelspec": {
   "display_name": "Python 3 (ipykernel)",
   "language": "python",
   "name": "python3"
  },
  "language_info": {
   "codemirror_mode": {
    "name": "ipython",
    "version": 3
   },
   "file_extension": ".py",
   "mimetype": "text/x-python",
   "name": "python",
   "nbconvert_exporter": "python",
   "pygments_lexer": "ipython3",
   "version": "3.11.7"
  }
 },
 "nbformat": 4,
 "nbformat_minor": 5
}
